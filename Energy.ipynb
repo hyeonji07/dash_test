{
  "cells": [
    {
      "cell_type": "raw",
      "metadata": {},
      "source": [
        "---\n",
        "title: \"대시보드 야매\"\n",
        "author: \"전현지\"\n",
        "format: dashboard\n",
        "execute: \n",
        "  enabled: true\n",
        "  cache: false\n",
        "  freeze: false\n",
        "  error: true\n",
        "---"
      ],
      "id": "5bfacd69"
    },
    {
      "cell_type": "code",
      "metadata": {},
      "source": [
        "import numpy as np\n",
        "import pandas as pd\n",
        "import plotly.express as px\n",
        "import plotly.io as pio\n",
        "import json\n",
        "import requests\n",
        "\n",
        "pd.options.plotting.backend = \"plotly\"\n",
        "pio.templates.default = \"plotly_white\"\n",
        "\n",
        "global_dict = json.loads(requests.get('https://raw.githubusercontent.com/southkorea/southkorea-maps/master/kostat/2018/json/skorea-provinces-2018-geo.json').text)\n",
        "local_dict = json.loads(requests.get('https://raw.githubusercontent.com/southkorea/southkorea-maps/master/kostat/2018/json/skorea-municipalities-2018-geo.json').text)\n",
        "#--#\n",
        "url = 'https://raw.githubusercontent.com/guebin/DV2022/main/posts/Energy/{}.csv'\n",
        "prov = ['Seoul', 'Busan', 'Daegu', 'Incheon', \n",
        "        'Gwangju', 'Daejeon', 'Ulsan', 'Sejongsi', \n",
        "        'Gyeonggi-do', 'Gangwon-do', 'Chungcheongbuk-do', \n",
        "        'Chungcheongnam-do', 'Jeollabuk-do', 'Jeollanam-do', \n",
        "        'Gyeongsangbuk-do', 'Gyeongsangnam-do', 'Jeju-do']\n",
        "df = pd.concat([pd.read_csv(url.format(p+y)).assign(년도=y, 시도=p) for p in prov for y in ['2018', '2019', '2020', '2021']]).reset_index(drop=True)\\\n",
        ".assign(년도 = lambda df: df.년도.astype(int))\\\n",
        ".set_index(['년도','시도','지역']).applymap(lambda x: int(str(x).replace(',','')))\\\n",
        ".reset_index()\n",
        "df_global = pd.DataFrame([l['properties'] for l in global_dict['features']])\n",
        "df_local = pd.DataFrame([l['properties'] for l in local_dict['features']])\n",
        "df_json = df_local.set_index('name')\\\n",
        ".rename(\n",
        "    {name:name.split('시')[-1] for name in df_local['name'] if ('시' in name) and ('구' in name) and (len(name)>3)}\n",
        ").reset_index()\\\n",
        ".drop(['base_year','name_eng'],axis=1)\\\n",
        ".rename({'name':'name_local','code':'code_local'},axis=1)\\\n",
        ".assign(code = lambda df: df['code_local'].str[:2])\\\n",
        ".merge(df_global.drop(['base_year','name_eng'],axis=1))\n",
        "df_left = df.assign(\n",
        "    시도 = lambda df: df.시도.map({l['properties']['name_eng']:l['properties']['name'] for l in global_dict['features']})\n",
        ").assign(on = lambda df: df.시도 + '-' + df.지역)\n",
        "df_right = df_json.assign(on = lambda df: df.name + '-' + df.name_local)\\\n",
        ".drop(['name_local','name'],axis=1)\n",
        "df2 = df_left.merge(\n",
        "    df_right.set_index('on')\\\n",
        "    .rename({'인천광역시-남구':'인천광역시-미추홀구'})\\\n",
        "    .reset_index()\n",
        ").drop(['on'],axis=1)"
      ],
      "id": "960ce861",
      "execution_count": null,
      "outputs": []
    },
    {
      "cell_type": "markdown",
      "metadata": {},
      "source": [
        "# 데이터탐색"
      ],
      "id": "834fa769"
    },
    {
      "cell_type": "code",
      "metadata": {
        "title": "에너지사용량 자료"
      },
      "source": [
        "import itables \n",
        "itables.show(df2,showIndex=False)"
      ],
      "id": "a3cfd69f",
      "execution_count": null,
      "outputs": []
    },
    {
      "cell_type": "markdown",
      "metadata": {},
      "source": [
        "# 시각화 {orientation=\"columns\" scrolling=\"true\"}\n",
        "\n",
        "## Column {width=50%}"
      ],
      "id": "77ea4ff8"
    },
    {
      "cell_type": "code",
      "metadata": {
        "title": "2018년도 전기사용량 (전국)"
      },
      "source": [
        "fig = px.choropleth_mapbox(\n",
        "    geojson = local_dict,\n",
        "    featureidkey = 'properties.code',\n",
        "    data_frame = df2.query('년도 == 2018'),\n",
        "    locations = 'code_local',\n",
        "    color = '에너지사용량(TOE)/전기',\n",
        "    hover_data = ['시도','지역'],\n",
        "    #---#\n",
        "    mapbox_style=\"carto-positron\",\n",
        "    range_color = [0,200000],\n",
        "    center={\"lat\": 36, \"lon\": 127.5}, \n",
        "    zoom=6,\n",
        ")\n",
        "fig.show(config={'scrollZoom':False})"
      ],
      "id": "6b1ef835",
      "execution_count": null,
      "outputs": []
    },
    {
      "cell_type": "markdown",
      "metadata": {},
      "source": [
        "## Column {width=50%}"
      ],
      "id": "02103ba4"
    },
    {
      "cell_type": "code",
      "metadata": {
        "title": "2018~2019년도 전기사용량 (서울)"
      },
      "source": [
        "seoul_dict = local_dict.copy() \n",
        "seoul_dict['features'] = [l for l in seoul_dict['features'] if l['properties']['code'][:2] == '11']\n",
        "fig = px.choropleth_mapbox(\n",
        "    geojson = seoul_dict,\n",
        "    featureidkey = 'properties.code',\n",
        "    data_frame = df2,\n",
        "    locations = 'code_local',\n",
        "    color = '에너지사용량(TOE)/전기',\n",
        "    animation_frame= '년도',\n",
        "    hover_data = ['시도','지역'],\n",
        "    #---#\n",
        "    mapbox_style=\"carto-positron\",\n",
        "    range_color = [0,400000],\n",
        "    center={\"lat\": 37.5642135, \"lon\": 127.0016985},\n",
        "    zoom=9,\n",
        ")\n",
        "fig.show(config={'scrollZoom':False})"
      ],
      "id": "9e734343",
      "execution_count": null,
      "outputs": []
    },
    {
      "cell_type": "code",
      "metadata": {
        "title": "2018~2019년도 에너지사용량 (전국)"
      },
      "source": [
        "fig = df2.drop(['code_local','code'],axis=1)\\\n",
        ".set_index(['년도','시도','지역','건물동수','연면적']).stack().reset_index()\\\n",
        ".rename({'level_5':'에너지종류', 0:'에너지사용량'},axis=1)\\\n",
        ".assign(에너지종류 = lambda df: df['에너지종류'].str.split('/').str[-1])\\\n",
        ".groupby(['년도','시도','에너지종류']).agg({'에너지사용량':'sum'})\\\n",
        ".stack().reset_index()\\\n",
        ".rename({0:'에너지사용량'},axis=1)\\\n",
        ".plot.area(\n",
        "    x='년도',y='에너지사용량',\n",
        "    color='시도',\n",
        "    facet_col='에너지종류'\n",
        ")\n",
        "fig.update_layout(\n",
        "    xaxis_domain=[0.0, 0.25],\n",
        "    xaxis2_domain=[0.35, 0.60],\n",
        "    xaxis3_domain=[0.70, 0.95]\n",
        ")"
      ],
      "id": "c73d9519",
      "execution_count": null,
      "outputs": []
    },
    {
      "cell_type": "markdown",
      "metadata": {},
      "source": [
        "# GDP"
      ],
      "id": "3e539ce7"
    },
    {
      "cell_type": "code",
      "metadata": {},
      "source": [
        "df = px.data.gapminder()"
      ],
      "id": "5ec30673",
      "execution_count": null,
      "outputs": []
    },
    {
      "cell_type": "markdown",
      "metadata": {},
      "source": [
        "## Row {height=60%} # <2>\n",
        "\n",
        "```{{python}}  # <3>\n",
        "#| title: GDP and Life Expectancy \n",
        "px.scatter(  \n",
        "  df, x=\"gdpPercap\", y=\"lifeExp\", \n",
        "  animation_frame=\"year\", animation_group=\"country\", \n",
        "  size=\"pop\", color=\"continent\", hover_name=\"country\",\n",
        "  facet_col=\"continent\", log_x=True, size_max=45, \n",
        "  range_x=[100,100000], range_y=[25,90] \n",
        ")  \n",
        "``` # <3>\n",
        "\n",
        "## Row {height=40%}\n",
        "\n",
        "```{{python}} # <4>\n",
        "#| title: Population\n",
        "px.area(\n",
        "  df, x=\"year\", y=\"pop\", \n",
        "  color=\"continent\", line_group=\"country\"\n",
        ")\n",
        "```\n",
        "\n",
        "```{{python}}\n",
        "#| title: Life Expectancy\n",
        "px.line(\n",
        "  df, x=\"year\", y=\"lifeExp\", \n",
        "  color=\"continent\", line_group=\"country\"\n",
        ")\n",
        "``` # <4>\n",
        "````\n",
        "\n",
        "1.  The document options define the `title` and `author` for the navigation bar as well as specifying the use of the `dashboard` format.\n",
        "2.  Rows and columns are defined using headings. In this example we define two rows and specify their relative sizes using the `height` option.\n",
        "3.  Computational cells become cards that live within rows or columns. Cards can have an optional title (which here we specify using the `title` option).\n",
        "4.  The second row includes two computational cells, which are automatically split into two side by side cards.\n",
        "\n",
        "## Getting Started\n",
        "\n",
        "### Step 1: Install Quarto Pre-Release\n",
        "\n",
        "Dashboards are a feature in the upcoming 1.4 release of Quarto and are still under active development. Before you get started, make sure you install the **latest pre-release** version of Quarto.\n",
        "\n",
        "If you are using Quarto within a Python environment you can install the pre-release with `pip` as follows:\n",
        "\n",
        "```{.bash filename=\"Terminal\"}\n",
        "pip install git+https://github.com/quarto-dev/quarto-cli\n",
        "```\n",
        "\n",
        "Alternatively, run the global installer for your platform:\n",
        "\n",
        "{{< include ../download/_download-pre.md >}}\n",
        "\n",
        "```{=html}\n",
        "<style type=\"text/css\">\n",
        "#download-pre-table {\n",
        "  display: none;\n",
        "}\n",
        "</style>\n",
        "```\n",
        "\n",
        "You can find release notes and installers for all platforms at <https://quarto.org/docs/download/prerelease.html>\n",
        "\n",
        "### Step 2: Learn the Basics\n",
        "\n",
        "Start by learning how to lay out your dashboard and populate it with content:\n",
        "\n",
        "[Dashboard Layout](layout.qmd) shows you how to control the navigation bar, and how to arrange your content across pages, rows, columns, tabsets, and cards.\n",
        "\n",
        "[Data Display](data-display.qmd) shows you how to display data in your dashboard as plots, tables, value boxes, and text.\n",
        "\n",
        "### Step 3: Explore Further\n",
        "\n",
        "Once you've mastered the basics, check out these additional articles to learn more.\n",
        "\n",
        "[Examples](examples/index.qmd) provides a gallery of example dashboards you can use as inspiration for your own.\n",
        "\n",
        "[Inputs](inputs.qmd) demonstrates various ways to layout inputs for interactive dashboards (sidebars, toolbars, attaching inputs directly to cards, etc.)\n",
        "\n",
        "[Theming](theming.qmd) describes the various way to customize the fonts, colors, layout and other aspects of dashboard appearance.\n",
        "\n",
        "[Parameters](parameters.qmd) explains how to create dashboard variants by defining parameters and providing distinct values for them on the command line.\n",
        "\n",
        "[Deployment](deployment.qmd) covers how to deploy both static dashboards (which require only a web host, but not a server) and Shiny dashboards (which require a Shiny Server).\n",
        "\n",
        "[Interactivity](interactivity/index.qmd) explores the various ways to create interactive dashboards that enable more flexible data exploration.\n"
      ],
      "id": "2b4ad6e1"
    }
  ],
  "metadata": {
    "kernelspec": {
      "name": "python3",
      "language": "python",
      "display_name": "Python 3 (ipykernel)"
    }
  },
  "nbformat": 4,
  "nbformat_minor": 5
}